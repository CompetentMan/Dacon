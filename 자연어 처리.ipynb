{
 "cells": [
  {
   "cell_type": "code",
   "execution_count": 377,
   "id": "8dde0e0c",
   "metadata": {},
   "outputs": [
    {
     "data": {
      "text/plain": [
       "(5000, 2)"
      ]
     },
     "execution_count": 377,
     "metadata": {},
     "output_type": "execute_result"
    }
   ],
   "source": [
    "import pandas as pd\n",
    "test = pd.read_csv('dataset/test.csv')\n",
    "test.shape"
   ]
  },
  {
   "cell_type": "code",
   "execution_count": 435,
   "id": "be8db728",
   "metadata": {},
   "outputs": [
    {
     "data": {
      "text/html": [
       "<div>\n",
       "<style scoped>\n",
       "    .dataframe tbody tr th:only-of-type {\n",
       "        vertical-align: middle;\n",
       "    }\n",
       "\n",
       "    .dataframe tbody tr th {\n",
       "        vertical-align: top;\n",
       "    }\n",
       "\n",
       "    .dataframe thead th {\n",
       "        text-align: right;\n",
       "    }\n",
       "</style>\n",
       "<table border=\"1\" class=\"dataframe\">\n",
       "  <thead>\n",
       "    <tr style=\"text-align: right;\">\n",
       "      <th></th>\n",
       "      <th>id</th>\n",
       "      <th>document</th>\n",
       "      <th>label</th>\n",
       "    </tr>\n",
       "  </thead>\n",
       "  <tbody>\n",
       "    <tr>\n",
       "      <th>0</th>\n",
       "      <td>1</td>\n",
       "      <td>영상이나 음악이 이쁘다 해도 미화시킨 불륜일뿐</td>\n",
       "      <td>0</td>\n",
       "    </tr>\n",
       "    <tr>\n",
       "      <th>1</th>\n",
       "      <td>2</td>\n",
       "      <td>히치콕이 이 영화를 봤다면 분명 박수를 쳤을듯...</td>\n",
       "      <td>1</td>\n",
       "    </tr>\n",
       "    <tr>\n",
       "      <th>2</th>\n",
       "      <td>3</td>\n",
       "      <td>괜찮은 음악영화가 또 나왔군요!!! 따뜻한 겨울이 될 것 같아요~</td>\n",
       "      <td>1</td>\n",
       "    </tr>\n",
       "    <tr>\n",
       "      <th>3</th>\n",
       "      <td>4</td>\n",
       "      <td>아무래도 20년도지난작품이라 지금보기는너무유치하다</td>\n",
       "      <td>0</td>\n",
       "    </tr>\n",
       "    <tr>\n",
       "      <th>4</th>\n",
       "      <td>5</td>\n",
       "      <td>지금까지의 영화들이 그랬듯. 이 영화역시 일본에 대한 미화는 여전하다.</td>\n",
       "      <td>0</td>\n",
       "    </tr>\n",
       "  </tbody>\n",
       "</table>\n",
       "</div>"
      ],
      "text/plain": [
       "   id                                 document  label\n",
       "0   1                영상이나 음악이 이쁘다 해도 미화시킨 불륜일뿐      0\n",
       "1   2             히치콕이 이 영화를 봤다면 분명 박수를 쳤을듯...      1\n",
       "2   3     괜찮은 음악영화가 또 나왔군요!!! 따뜻한 겨울이 될 것 같아요~      1\n",
       "3   4              아무래도 20년도지난작품이라 지금보기는너무유치하다      0\n",
       "4   5  지금까지의 영화들이 그랬듯. 이 영화역시 일본에 대한 미화는 여전하다.      0"
      ]
     },
     "execution_count": 435,
     "metadata": {},
     "output_type": "execute_result"
    }
   ],
   "source": [
    "train = pd.read_csv('dataset/train.csv')\n",
    "train.head()"
   ]
  },
  {
   "cell_type": "code",
   "execution_count": 26,
   "id": "54aae1d5",
   "metadata": {},
   "outputs": [
    {
     "data": {
      "text/plain": [
       "(5000, 2)"
      ]
     },
     "execution_count": 26,
     "metadata": {},
     "output_type": "execute_result"
    }
   ],
   "source": [
    "train['document'].nunique(), train['label'].nunique() # 데이터의 정보 확인"
   ]
  },
  {
   "cell_type": "code",
   "execution_count": 27,
   "id": "3f541c8d",
   "metadata": {},
   "outputs": [
    {
     "data": {
      "text/plain": [
       "<AxesSubplot:>"
      ]
     },
     "execution_count": 27,
     "metadata": {},
     "output_type": "execute_result"
    },
    {
     "data": {
      "image/png": "[encoded data removed]",
      "text/plain": [
       "<Figure size 432x288 with 1 Axes>"
      ]
     },
     "metadata": {
      "needs_background": "light"
     },
     "output_type": "display_data"
    }
   ],
   "source": [
    "import matplotlib.pyplot as plt\n",
    "train['label'].value_counts().plot(kind = 'bar') # 긍정과 부정리뷰의 개수 비교"
   ]
  },
  {
   "cell_type": "code",
   "execution_count": 12,
   "id": "129ea609",
   "metadata": {},
   "outputs": [
    {
     "data": {
      "text/plain": [
       "0    2564\n",
       "1    2436\n",
       "Name: label, dtype: int64"
      ]
     },
     "execution_count": 12,
     "metadata": {},
     "output_type": "execute_result"
    }
   ],
   "source": [
    "train['label'].value_counts() # 구체적인 회수 비교"
   ]
  },
  {
   "cell_type": "code",
   "execution_count": 436,
   "id": "f880d9c8",
   "metadata": {},
   "outputs": [
    {
     "name": "stderr",
     "output_type": "stream",
     "text": [
      "C:\\Users\\ADMINI~1\\AppData\\Local\\Temp/ipykernel_11964/2712448841.py:1: FutureWarning: The default value of regex will change from True to False in a future version.\n",
      "  train['document'] = train['document'].str.replace(\"[^ㄱ-ㅎㅏ-ㅣ가-힣 a-z A-Z]\",\"\")\n"
     ]
    },
    {
     "data": {
      "text/html": [
       "<div>\n",
       "<style scoped>\n",
       "    .dataframe tbody tr th:only-of-type {\n",
       "        vertical-align: middle;\n",
       "    }\n",
       "\n",
       "    .dataframe tbody tr th {\n",
       "        vertical-align: top;\n",
       "    }\n",
       "\n",
       "    .dataframe thead th {\n",
       "        text-align: right;\n",
       "    }\n",
       "</style>\n",
       "<table border=\"1\" class=\"dataframe\">\n",
       "  <thead>\n",
       "    <tr style=\"text-align: right;\">\n",
       "      <th></th>\n",
       "      <th>id</th>\n",
       "      <th>document</th>\n",
       "      <th>label</th>\n",
       "    </tr>\n",
       "  </thead>\n",
       "  <tbody>\n",
       "    <tr>\n",
       "      <th>0</th>\n",
       "      <td>1</td>\n",
       "      <td>영상이나 음악이 이쁘다 해도 미화시킨 불륜일뿐</td>\n",
       "      <td>0</td>\n",
       "    </tr>\n",
       "    <tr>\n",
       "      <th>1</th>\n",
       "      <td>2</td>\n",
       "      <td>히치콕이 이 영화를 봤다면 분명 박수를 쳤을듯</td>\n",
       "      <td>1</td>\n",
       "    </tr>\n",
       "    <tr>\n",
       "      <th>2</th>\n",
       "      <td>3</td>\n",
       "      <td>괜찮은 음악영화가 또 나왔군요 따뜻한 겨울이 될 것 같아요</td>\n",
       "      <td>1</td>\n",
       "    </tr>\n",
       "    <tr>\n",
       "      <th>3</th>\n",
       "      <td>4</td>\n",
       "      <td>아무래도 년도지난작품이라 지금보기는너무유치하다</td>\n",
       "      <td>0</td>\n",
       "    </tr>\n",
       "    <tr>\n",
       "      <th>4</th>\n",
       "      <td>5</td>\n",
       "      <td>지금까지의 영화들이 그랬듯 이 영화역시 일본에 대한 미화는 여전하다</td>\n",
       "      <td>0</td>\n",
       "    </tr>\n",
       "  </tbody>\n",
       "</table>\n",
       "</div>"
      ],
      "text/plain": [
       "   id                               document  label\n",
       "0   1              영상이나 음악이 이쁘다 해도 미화시킨 불륜일뿐      0\n",
       "1   2              히치콕이 이 영화를 봤다면 분명 박수를 쳤을듯      1\n",
       "2   3       괜찮은 음악영화가 또 나왔군요 따뜻한 겨울이 될 것 같아요      1\n",
       "3   4              아무래도 년도지난작품이라 지금보기는너무유치하다      0\n",
       "4   5  지금까지의 영화들이 그랬듯 이 영화역시 일본에 대한 미화는 여전하다      0"
      ]
     },
     "execution_count": 436,
     "metadata": {},
     "output_type": "execute_result"
    }
   ],
   "source": [
    "train['document'] = train['document'].str.replace(\"[^ㄱ-ㅎㅏ-ㅣ가-힣 a-z A-Z]\",\"\") # 이모티콘, 마침표 등등을 제외하는 전처리\n",
    "train.head()"
   ]
  },
  {
   "cell_type": "code",
   "execution_count": 437,
   "id": "5c37a1fb",
   "metadata": {},
   "outputs": [
    {
     "name": "stdout",
     "output_type": "stream",
     "text": [
      "id          0\n",
      "document    0\n",
      "label       0\n",
      "dtype: int64\n"
     ]
    },
    {
     "name": "stderr",
     "output_type": "stream",
     "text": [
      "C:\\Users\\ADMINI~1\\AppData\\Local\\Temp/ipykernel_11964/2736232508.py:1: FutureWarning: The default value of regex will change from True to False in a future version.\n",
      "  train['document'] = train['document'].str.replace('^ +', \"\") # white space 데이터를 empty value로 변경\n"
     ]
    }
   ],
   "source": [
    "train['document'] = train['document'].str.replace('^ +', \"\") # 빈칸인 데이터를 empty value로 변경\n",
    "train['document'].replace('', np.nan, inplace=True)\n",
    "print(train.isnull().sum())"
   ]
  },
  {
   "cell_type": "code",
   "execution_count": 378,
   "id": "20956c47",
   "metadata": {},
   "outputs": [
    {
     "name": "stdout",
     "output_type": "stream",
     "text": [
      "id          0\n",
      "document    0\n",
      "dtype: int64\n"
     ]
    },
    {
     "name": "stderr",
     "output_type": "stream",
     "text": [
      "C:\\Users\\ADMINI~1\\AppData\\Local\\Temp/ipykernel_11964/4214626495.py:1: FutureWarning: The default value of regex will change from True to False in a future version.\n",
      "  test['document'] = test['document'].str.replace(\"[^ㄱ-ㅎㅏ-ㅣ가-힣 a-z A-Z]\",\"\")\n",
      "C:\\Users\\ADMINI~1\\AppData\\Local\\Temp/ipykernel_11964/4214626495.py:2: FutureWarning: The default value of regex will change from True to False in a future version.\n",
      "  test['document'] = test['document'].str.replace('^ +', \"\")\n"
     ]
    }
   ],
   "source": [
    "test['document'] = test['document'].str.replace(\"[^ㄱ-ㅎㅏ-ㅣ가-힣 a-z A-Z]\",\"\")\n",
    "test['document'] = test['document'].str.replace('^ +', \"\")\n",
    "test['document'].replace('', np.nan, inplace=True)\n",
    "print(test.isnull().sum())"
   ]
  },
  {
   "cell_type": "code",
   "execution_count": 355,
   "id": "b84e13c9",
   "metadata": {},
   "outputs": [],
   "source": [
    "from konlpy.tag import Okt\n",
    "okt = Okt()"
   ]
  },
  {
   "cell_type": "code",
   "execution_count": 476,
   "id": "0baa9080",
   "metadata": {},
   "outputs": [],
   "source": [
    "import json\n",
    "import os\n",
    "from pprint import pprint\n",
    "\n",
    "def tokenize(doc) :\n",
    "    return ['/'.join(t) for t in okt.pos(doc, norm=True, stem=True)]"
   ]
  },
  {
   "cell_type": "code",
   "execution_count": 483,
   "id": "e7082b03",
   "metadata": {},
   "outputs": [
    {
     "name": "stdout",
     "output_type": "stream",
     "text": [
      "(['영상/Noun',\n",
      "  '이나/Josa',\n",
      "  '음악/Noun',\n",
      "  '이/Josa',\n",
      "  '이쁘다/Adjective',\n",
      "  '해도/Noun',\n",
      "  '미화/Noun',\n",
      "  '시키다/Verb',\n",
      "  '불륜/Noun',\n",
      "  '일/Modifier',\n",
      "  '뿐/Noun'],\n",
      " 0)\n"
     ]
    }
   ],
   "source": [
    "# 단어를 토큰화하는건 시간이 오래 걸리므로 한번만 만들고 따로 저장함\n",
    "if os.path.isfile('train_docs.json') :\n",
    "    with open('train_docs.json', encoding='utf-8') as f :\n",
    "        train_docs = json.load(f)\n",
    "    with open('test_docs.json', encoding='utf-8') as f :\n",
    "        test_docs = json.load(f)\n",
    "        \n",
    "else :\n",
    "    train_docs = [(tokenize(row[1]), row[2]) for row in train.values]\n",
    "    test_docs = [(tokenize(row[1])) for row in test.values]\n",
    "    \n",
    "    with open('train_docs.json', 'w', encoding=\"utf-8\") as make_file:\n",
    "        json.dump(train_docs, make_file, ensure_ascii=False, indent=\"\\t\")\n",
    "    with open('test_docs.json', 'w', encoding=\"utf-8\") as make_file:\n",
    "        json.dump(test_docs, make_file, ensure_ascii=False, indent=\"\\t\")\n",
    "        \n",
    "pprint(train_docs[0])"
   ]
  },
  {
   "cell_type": "code",
   "execution_count": 484,
   "id": "d18bfd58",
   "metadata": {},
   "outputs": [
    {
     "name": "stdout",
     "output_type": "stream",
     "text": [
      "(['영상/Noun', '이나/Josa', '음악/Noun', '이/Josa', '이쁘다/Adjective', '해도/Noun', '미화/Noun', '시키다/Verb', '불륜/Noun', '일/Modifier', '뿐/Noun'], 0)\n",
      "(['히치콕/Noun', '이/Josa', '이/Noun', '영화/Noun', '를/Josa', '보다/Verb', '분명/Noun', '박수/Noun', '를/Josa', '치다/Verb'], 1)\n"
     ]
    }
   ],
   "source": [
    "for word in train_docs[:2] :\n",
    "    print(word)"
   ]
  },
  {
   "cell_type": "code",
   "execution_count": 490,
   "id": "b6633423",
   "metadata": {},
   "outputs": [
    {
     "name": "stdout",
     "output_type": "stream",
     "text": [
      "40183\n"
     ]
    }
   ],
   "source": [
    "tokens = [t for d in train_docs for t in d[0] if t.split('/')[1] != 'Josa']\n",
    "print(len(tokens)) # 조사를 제외한 토큰의 총 개수"
   ]
  },
  {
   "cell_type": "code",
   "execution_count": 489,
   "id": "b36fdd9f",
   "metadata": {},
   "outputs": [
    {
     "name": "stdout",
     "output_type": "stream",
     "text": [
      "[('영화/Noun', 1531),\n",
      " ('보다/Verb', 1106),\n",
      " ('하다/Verb', 891),\n",
      " ('없다/Adjective', 460),\n",
      " ('너무/Adverb', 385),\n",
      " ('재밌다/Adjective', 355),\n",
      " ('들/Suffix', 353),\n",
      " ('좋다/Adjective', 349),\n",
      " ('정말/Noun', 320),\n",
      " ('이/Determiner', 305)]\n"
     ]
    }
   ],
   "source": [
    "import nltk\n",
    "text = nltk.Text(tokens, name = 'NMSC')\n",
    "pprint(text.vocab().most_common(10)) # 가장 많이 등장한 단어"
   ]
  },
  {
   "cell_type": "code",
   "execution_count": 519,
   "id": "f83b77c1",
   "metadata": {},
   "outputs": [],
   "source": [
    "selected_words = [f[0] for f in text.vocab().most_common(25000)]\n",
    "# 자주 나오는 단어로 데이터 구성\n",
    "def term_frequancy(doc) :\n",
    "    return [doc.count(word) for word in selected_words]\n",
    "\n",
    "X_train = [term_frequancy(d) for d, _ in train_docs]\n",
    "X_test = [term_frequancy(d) for d in test_docs]\n",
    "y_train = [c for _, c in train_docs]"
   ]
  },
  {
   "cell_type": "code",
   "execution_count": 520,
   "id": "c2ffafef",
   "metadata": {},
   "outputs": [],
   "source": [
    "import numpy as np\n",
    "\n",
    "X_train = np.asarray(X_train).astype('float32')\n",
    "X_test = np.asarray(X_test).astype('float32')\n",
    "y_train = np.asarray(y_train).astype('float32')"
   ]
  },
  {
   "cell_type": "code",
   "execution_count": 544,
   "id": "40327bb6",
   "metadata": {},
   "outputs": [
    {
     "name": "stderr",
     "output_type": "stream",
     "text": [
      "C:\\Users\\Administrator\\anaconda3\\lib\\site-packages\\keras\\optimizer_v2\\optimizer_v2.py:355: UserWarning: The `lr` argument is deprecated, use `learning_rate` instead.\n",
      "  warnings.warn(\n"
     ]
    },
    {
     "name": "stdout",
     "output_type": "stream",
     "text": [
      "Epoch 1/5\n",
      "50/50 [==============================] - 1s 11ms/step - loss: 0.5378 - binary_accuracy: 0.7846\n",
      "Epoch 2/5\n",
      "50/50 [==============================] - 1s 11ms/step - loss: 0.2489 - binary_accuracy: 0.9142\n",
      "Epoch 3/5\n",
      "50/50 [==============================] - 1s 10ms/step - loss: 0.1467 - binary_accuracy: 0.9506\n",
      "Epoch 4/5\n",
      "50/50 [==============================] - 1s 11ms/step - loss: 0.0930 - binary_accuracy: 0.9696\n",
      "Epoch 5/5\n",
      "50/50 [==============================] - 1s 10ms/step - loss: 0.0633 - binary_accuracy: 0.9804\n",
      "157/157 [==============================] - 1s 2ms/step - loss: 0.0346 - binary_accuracy: 0.9898\n"
     ]
    }
   ],
   "source": [
    "from tensorflow.keras import models\n",
    "from tensorflow.keras import layers\n",
    "from tensorflow.keras import optimizers\n",
    "from tensorflow.keras import losses\n",
    "from tensorflow.keras import metrics\n",
    "\n",
    "model = models.Sequential()\n",
    "model.add(layers.Dense(64, activation='relu'))\n",
    "model.add(layers.Dense(64, activation='relu'))\n",
    "model.add(layers.Dense(1, activation='sigmoid'))\n",
    "\n",
    "model.compile(optimizer= optimizers.RMSprop(lr = 0.001),\n",
    "             loss = losses.binary_crossentropy,\n",
    "             metrics = [metrics.binary_accuracy])\n",
    "\n",
    "model.fit(X_train, y_train, epochs = 5, batch_size = 100)\n",
    "results = model.evaluate(X_train, y_train)"
   ]
  },
  {
   "cell_type": "code",
   "execution_count": 545,
   "id": "95f94584",
   "metadata": {},
   "outputs": [],
   "source": [
    "predict = model.predict(X_test)"
   ]
  },
  {
   "cell_type": "code",
   "execution_count": 546,
   "id": "641cbb4a",
   "metadata": {},
   "outputs": [],
   "source": [
    "prediction = [1 if float(score) > 0.5 else 0 for score in predict] # 1-긍정, 0-부정"
   ]
  },
  {
   "cell_type": "code",
   "execution_count": 547,
   "id": "0a58275d",
   "metadata": {},
   "outputs": [],
   "source": [
    "test['label'] = prediction"
   ]
  }
 ],
 "metadata": {
  "kernelspec": {
   "display_name": "Python 3 (ipykernel)",
   "language": "python",
   "name": "python3"
  },
  "language_info": {
   "codemirror_mode": {
    "name": "ipython",
    "version": 3
   },
   "file_extension": ".py",
   "mimetype": "text/x-python",
   "name": "python",
   "nbconvert_exporter": "python",
   "pygments_lexer": "ipython3",
   "version": "3.8.12"
  }
 },
 "nbformat": 4,
 "nbformat_minor": 5
}
